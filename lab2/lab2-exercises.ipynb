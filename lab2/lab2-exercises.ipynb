{
 "cells": [
  {
   "cell_type": "markdown",
   "metadata": {},
   "source": [
    "![Logo 1](https://git.wmi.amu.edu.pl/AITech/Szablon/raw/branch/master/Logotyp_AITech1.jpg)\n",
    "<div class=\"alert alert-block alert-info\">\n",
    "<h1> Uczenie maszynowe </h1>\n",
    "<h2> 2. <i>Wczytywanie i prezentowanie danych</i>  [laboratoria]</h2> \n",
    "<h3> Paweł Skórzewski (2021)</h3>\n",
    "</div>\n",
    "\n",
    "![Logo 2](https://git.wmi.amu.edu.pl/AITech/Szablon/raw/branch/master/Logotyp_AITech2.jpg)"
   ]
  },
  {
   "cell_type": "markdown",
   "metadata": {},
   "source": [
    "# 2. Wczytywanie i prezentowanie danych"
   ]
  },
  {
   "cell_type": "markdown",
   "metadata": {},
   "source": [
    "## 2.1. Formaty CSV i TSV"
   ]
  },
  {
   "cell_type": "markdown",
   "metadata": {},
   "source": [
    "### Przechowywanie danych w plikach w formatach CSV i TSV"
   ]
  },
  {
   "cell_type": "markdown",
   "metadata": {},
   "source": [
    "**CSV** (*Comma-Separated Values*) i **TSV** (*Tab-Separated Values*) to proste formaty przechowywania danych tabelarycznych w postaci tekstowej.\n",
    "\n",
    "Każdy rekord zapisywany jest w osobnym wierszu, a poszczególne pola oddzielone są przecinkami (CSV) lub znakami tabulacji (TSV)."
   ]
  },
  {
   "cell_type": "markdown",
   "metadata": {},
   "source": [
    "#### Przykład\n",
    "\n",
    "Następujące dane tabelaryczne:\n",
    "\n",
    "imię | nazwisko  | rok ur. | adres\n",
    ":----|:----------|:--------|:----------------------\n",
    "Jan  | Nowak     | 1999    | Poznańska 3, Warszawa\n",
    "Anna | Kowalska  | 2001    | Warszawska 9, Poznań\n",
    "Ewa  | Kaczmarek | 1990    | Wrocławska 123, Gdańsk\n",
    "\n",
    "możemy zapisać w formacie CSV jako:\n",
    "\n",
    "    imię,nazwisko,rok ur.,adres\n",
    "    Jan,Nowak,1999,\"Poznańska 3, Warszawa\"\n",
    "    Anna,Kowalska,2001,\"Warszawska 9, Poznań\"\n",
    "    Ewa,Kaczmarek,1990,\"Wrocławska 123, Gdańsk\"\n",
    "\n",
    "lub w formacie TSV jako:\n",
    "\n",
    "    imię    nazwisko    rok ur. adres\n",
    "    Jan     Nowak       1999    Poznańska 3, Warszawa\n",
    "    Anna    Kowalska    2001    Warszawska 9, Poznań\n",
    "    Ewa     Kaczmarek   1990    Wrocławska 123, Gdańsk\n",
    "    \n",
    "W formacie TSV poszczególne pola oddzielone są znakami tabulacji, a nie spacjami.\n",
    "\n",
    "Znak tabulacji to ten biały (tj. niedrukowalny) znak, który pojawia się po naciśnięciu klawisza **Tab** na klawiaturze."
   ]
  },
  {
   "cell_type": "markdown",
   "metadata": {},
   "source": [
    "Formaty CSV i TSV mają tę zaletę, że są proste, łatwe do przetorzenia przez komputer oraz czytelne dla człowieka."
   ]
  },
  {
   "cell_type": "markdown",
   "metadata": {},
   "source": [
    "### Wczytywanie danych z plików CSV i TSV"
   ]
  },
  {
   "cell_type": "markdown",
   "metadata": {},
   "source": [
    "#### Biblioteka `csv`"
   ]
  },
  {
   "cell_type": "code",
   "execution_count": null,
   "metadata": {},
   "outputs": [],
   "source": [
    "import csv\n",
    "\n",
    "with open('data2.csv') as data_file:\n",
    "    reader = csv.reader(data_file)\n",
    "    for row in reader:\n",
    "        print(row)"
   ]
  },
  {
   "cell_type": "code",
   "execution_count": null,
   "metadata": {},
   "outputs": [],
   "source": [
    "import csv\n",
    "\n",
    "with open('data1.csv') as data_file:\n",
    "    reader = csv.DictReader(data_file)\n",
    "    for row in reader:\n",
    "        print(dict(row))"
   ]
  },
  {
   "cell_type": "code",
   "execution_count": null,
   "metadata": {},
   "outputs": [],
   "source": [
    "import csv\n",
    "\n",
    "with open('data1.tsv') as data_file:\n",
    "    reader = csv.reader(data_file, delimiter='\\t')\n",
    "    for row in reader:\n",
    "        print(row)"
   ]
  },
  {
   "cell_type": "code",
   "execution_count": null,
   "metadata": {},
   "outputs": [],
   "source": [
    "import csv\n",
    "\n",
    "with open('data1.tsv') as data_file:\n",
    "    reader = csv.DictReader(data_file, delimiter='\\t')\n",
    "    for row in reader:\n",
    "        print(dict(row))"
   ]
  },
  {
   "cell_type": "markdown",
   "metadata": {},
   "source": [
    "#### Biblioteka `pandas`"
   ]
  },
  {
   "cell_type": "code",
   "execution_count": null,
   "metadata": {},
   "outputs": [],
   "source": [
    "import pandas as pd\n",
    "\n",
    "data = pd.read_csv('data1.csv')\n",
    "print(data)"
   ]
  },
  {
   "cell_type": "code",
   "execution_count": null,
   "metadata": {},
   "outputs": [],
   "source": [
    "import pandas as pd\n",
    "\n",
    "data = pd.read_csv('data1.tsv', sep='\\t')\n",
    "print(data)"
   ]
  },
  {
   "cell_type": "code",
   "execution_count": null,
   "metadata": {},
   "outputs": [],
   "source": [
    "print(data.to_numpy())  # dane z Pandas DataFrame można przekonwertować na tablicę NumPy"
   ]
  },
  {
   "cell_type": "markdown",
   "metadata": {},
   "source": [
    "## 2.2. Wykresy – biblioteka `matplotlib`"
   ]
  },
  {
   "cell_type": "markdown",
   "metadata": {},
   "source": [
    "Dokumentacja modułu `pyplot` biblioteki `matplotlib`: https://matplotlib.org/api/pyplot_api.html"
   ]
  },
  {
   "cell_type": "code",
   "execution_count": null,
   "metadata": {},
   "outputs": [],
   "source": [
    "%matplotlib inline"
   ]
  },
  {
   "cell_type": "code",
   "execution_count": null,
   "metadata": {},
   "outputs": [],
   "source": [
    "import matplotlib.pyplot as plt\n",
    "\n",
    "# Prosty wykres punktowy\n",
    "# Litery 'ro' oznaczają, że dane zostaną przedstawione za pomocą czerwonych kółek:\n",
    "#    'r' ('red') – czerwone\n",
    "#    'o' – kółko\n",
    "# Zobacz też: https://matplotlib.org/api/pyplot_api.html#matplotlib.pyplot.plot\n",
    "\n",
    "plt.plot([1,2,3,4], [1,4,9,16], 'ro')\n",
    "plt.axis([0, 5, 0, 20])  # opcjonalnie ustawiamy zakres osi wykresu\n",
    "\n",
    "plt.show()  # pokaż wykres"
   ]
  },
  {
   "cell_type": "code",
   "execution_count": null,
   "metadata": {},
   "outputs": [],
   "source": [
    "# Wykres danych wczytanych z pliku\n",
    "\n",
    "import matplotlib.pyplot as plt\n",
    "import pandas as pd\n",
    "\n",
    "# Wczytanie danych\n",
    "data = pd.read_csv('data1.tsv', sep='\\t')\n",
    "data_array = data.to_numpy()\n",
    "\n",
    "# Wybór kolumn do przedstawienia na wykresie\n",
    "x = data_array[:, 0]\n",
    "y = data_array[:, 5]\n",
    "\n",
    "plt.plot(x, y, 'gx')  # \"gx\" - zielone (Green) krzyżyki (x)\n",
    "plt.axis([0, 600000, 0, 100])  # opcjonalnie ustawiamy zakres osi wykresu\n",
    "\n",
    "plt.show()  # pokaż wykres"
   ]
  },
  {
   "cell_type": "code",
   "execution_count": null,
   "metadata": {},
   "outputs": [],
   "source": [
    "import numpy as np\n",
    "import matplotlib.pyplot as plt\n",
    "\n",
    "# inicjalizacja\n",
    "fig = plt.figure()\n",
    "# dodanie \"podwykresu\" (zobacz: http://matplotlib.org/api/pyplot_api.html#matplotlib.pyplot.subplot )\n",
    "ax = fig.add_subplot(111)\n",
    "\n",
    "ax.set_xlabel('x')  # opis osi x\n",
    "ax.set_ylabel('y')  # opis osi y\n",
    "ax.set_title('Wykres funkcji')  # tytuł wykresu\n",
    "\n",
    "x = np.arange(0.0, 10.0, 0.01)  # x przebiega zakres od 0 do 10 co 0.01\n",
    "\n",
    "# zdefiniowanie wartości y w zależności od x\n",
    "y = np.sin(2*np.pi*x)\n",
    "# spróbuj też inne funkcje:\n",
    "# y = 2 * x**2 + 5 * x - 10\n",
    "# y = np.sqrt(x)\n",
    "\n",
    "ax.plot(x, y, color='blue', lw=2)  # \"lw\" oznacza grubość linii (Line Width)\n",
    "\n",
    "plt.show()  # pokaż wykres"
   ]
  },
  {
   "cell_type": "markdown",
   "metadata": {},
   "source": [
    "### Style wykresów"
   ]
  },
  {
   "cell_type": "code",
   "execution_count": null,
   "metadata": {},
   "outputs": [],
   "source": [
    "# Umieszczanie kilku układów współrzędnych i kilku wykresów na jednym rysunku\n",
    "\n",
    "import numpy as np\n",
    "import matplotlib.pyplot as plt\n",
    "\n",
    "# inicjalizacja zestawu wykresów\n",
    "fig = plt.figure(figsize=(10,8))\n",
    "\n",
    "# wygenerowanie danych\n",
    "x = np.arange(0.0, 1.0, 0.025)\n",
    "y1 = np.sin(2*np.pi*x) + 5.0\n",
    "y2 = np.sin(2*np.pi*x) + 2.5\n",
    "y3 = np.sin(2*np.pi*x)\n",
    "\n",
    "# pierwszy wykres\n",
    "ax1 = fig.add_subplot(3,1,1)\n",
    "ax1.set_ylabel('y')\n",
    "ax1.set_title('pierwszy wykres')\n",
    "\n",
    "ax1.plot(x, y1, color='red', lw=2)  # pierwsza krzywa - czerwona\n",
    "ax1.plot(x, y2, color='green', lw=2)  # druga krzywa - zielona\n",
    "ax1.plot(x, y3, color='#002d69', lw=2)  # trzecia krzywa - kolor zdefiniowany szesnastkowo\n",
    "\n",
    "# drugi wykres\n",
    "ax2 = fig.add_subplot(3,1,2)\n",
    "ax2.set_ylabel('y')\n",
    "ax2.set_title('drugi wykres')\n",
    "\n",
    "ax2.plot(x, y1, color='black', lw=2,linestyle=\"--\")  # pierwsza krzywa - kreskowana\n",
    "ax2.plot(x, y2, color='blue', lw=2,linestyle=\":\")  # druga krzywa - kropkowana\n",
    "ax2.plot(x, y3, color='#ff0000', lw=2,linestyle=\"-.\")  # trzecia krzywa - kropkowano-kreskowana\n",
    "\n",
    "# trzeci wykres\n",
    "ax3 = fig.add_subplot(3,1,3)\n",
    "ax3.set_ylabel('y')\n",
    "ax3.set_title('trzeci wykres')\n",
    "\n",
    "ax3.plot(x, y1, color='brown', marker=\"x\")  # pierwsza krzywa - krzyżyki\n",
    "ax3.plot(x, y2, color='purple', marker=\"o\")  # druga krzywa - kółka\n",
    "ax3.plot(x, y3, color='orange', marker=\"^\")  # trzecia krzywa - trójkąty\n",
    "\n",
    "# dostosowanie odstępów pomiędzy wykresami\n",
    "plt.subplots_adjust(wspace=0.2,hspace=.4)\n",
    "\n",
    "plt.show()  # pokaż wykres"
   ]
  },
  {
   "cell_type": "markdown",
   "metadata": {},
   "source": [
    "### Wykresy trójwymiarowe – linie"
   ]
  },
  {
   "cell_type": "code",
   "execution_count": null,
   "metadata": {},
   "outputs": [],
   "source": [
    "import matplotlib as mpl\n",
    "from mpl_toolkits.mplot3d import Axes3D\n",
    "import numpy as np\n",
    "import matplotlib.pyplot as plt\n",
    "\n",
    "fig = plt.figure(figsize=(10,8))\n",
    "ax = fig.add_subplot(111, projection='3d')\n",
    "\n",
    "theta = np.linspace(-4 * np.pi, 4 * np.pi, 50)\n",
    "z = np.linspace(-2, 2, 50)\n",
    "r = z**2 + 1\n",
    "x = r * np.sin(theta)\n",
    "y = r * np.cos(theta)\n",
    "\n",
    "ax.plot(x, y, z, label='krzywa parametryczna')\n",
    "ax.legend()  # pokaż legendę wykresu\n",
    "\n",
    "plt.show()  # pokaż wykres"
   ]
  },
  {
   "cell_type": "markdown",
   "metadata": {},
   "source": [
    "### Wykresy trójwymiarowe – powierzchnie"
   ]
  },
  {
   "cell_type": "code",
   "execution_count": null,
   "metadata": {},
   "outputs": [],
   "source": [
    "from mpl_toolkits.mplot3d import Axes3D  # niezbędne do rysowania powierzchni w 3 wymiarach\n",
    "from matplotlib import cm\n",
    "import matplotlib.pyplot as plt\n",
    "import numpy as np\n",
    "\n",
    "fig = plt.figure(figsize=(10,8))\n",
    "ax = fig.add_subplot(111, projection='3d')\n",
    "\n",
    "X = np.arange(-5, 5, 0.25)\n",
    "Y = np.arange(-5, 5, 0.25)\n",
    "X, Y = np.meshgrid(X, Y)  # wygenerowanie tablicy danych wejściowych dla wykresu trójwymiarowego\n",
    "\n",
    "# obliczenie wartości rzędnych\n",
    "Z = np.sqrt(X**2 + Y**2) \n",
    "# Spróbuj też innych funkcji\n",
    "# Z = np.sin(np.sqrt(X**2 + Y**2))  \n",
    "# Z = np.cos(X + Y)  \n",
    "# Z = X**2 * Y\n",
    "\n",
    "surf = ax.plot_surface(X, Y, Z, rstride=1, cstride=1, cmap=cm.jet,\n",
    "        linewidth=0, antialiased=True)\n",
    "\n",
    "plt.show()"
   ]
  },
  {
   "cell_type": "markdown",
   "metadata": {},
   "source": [
    "### Wykresy kolumnowe"
   ]
  },
  {
   "cell_type": "code",
   "execution_count": null,
   "metadata": {},
   "outputs": [],
   "source": [
    "import numpy as np\n",
    "import matplotlib.pyplot as plt\n",
    "\n",
    "# data: scores in five groups for men and women\n",
    "N = 5\n",
    "menMeans   = [18, 35, 30, 35, 27]\n",
    "menStd     = [2, 3, 4, 1, 2]\n",
    "womenMeans = [25, 32, 34, 20, 25]\n",
    "womenStd   = [3, 5, 2, 3, 3]\n",
    "\n",
    "# start creating figure\n",
    "fig = plt.figure(figsize=(10,8))\n",
    "ax = fig.add_subplot(111)\n",
    "\n",
    "# necessary variables\n",
    "LOCATIONS = np.arange(N)  # the x locations for the groups\n",
    "WIDTH = 0.35              # the width of the bars\n",
    "\n",
    "# the bars\n",
    "rects_m = ax.bar(LOCATIONS, menMeans, WIDTH,\n",
    "                color='blue',\n",
    "                yerr=menStd,\n",
    "                error_kw=dict(elinewidth=2,ecolor='red'))\n",
    "\n",
    "rects_f = ax.bar(LOCATIONS+WIDTH, womenMeans, WIDTH,\n",
    "                 color='red',\n",
    "                 yerr=womenStd,\n",
    "                 error_kw=dict(elinewidth=2,ecolor='blue'))\n",
    "\n",
    "# axes and labels\n",
    "ax.set_xlim(-WIDTH, len(LOCATIONS))\n",
    "ax.set_ylabel(\"Scores\")\n",
    "ax.set_title(\"Scores by group and gender\")\n",
    "xTickMarks = [\"Group {}\".format(i) for i in range(1,6)]\n",
    "ax.set_xticks(LOCATIONS + WIDTH)\n",
    "xtickNames = ax.set_xticklabels(xTickMarks)\n",
    "plt.setp(xtickNames, rotation=45, fontsize=10)\n",
    "\n",
    "# add a legend\n",
    "ax.legend( (rects_m[0], rects_f[0]), ('Men', 'Women') )\n",
    "\n",
    "plt.show()"
   ]
  },
  {
   "cell_type": "markdown",
   "metadata": {},
   "source": [
    "### Wykresy punktowe"
   ]
  },
  {
   "cell_type": "code",
   "execution_count": null,
   "metadata": {},
   "outputs": [],
   "source": [
    "import numpy as np\n",
    "import matplotlib.pyplot as plt\n",
    "\n",
    "fig = plt.figure(figsize=(15,7))\n",
    "\n",
    "# left panel\n",
    "N = 1000\n",
    "ax1 = fig.add_subplot(121)\n",
    "\n",
    "x = np.random.randn(N)\n",
    "y = np.random.randn(N)\n",
    "ax1.scatter(x, y, color='blue', s=10, edgecolor='none')\n",
    "# make axes square\n",
    "ax1.set_aspect(1. / ax1.get_data_ratio()) \n",
    "\n",
    "# right panel\n",
    "ax2 = fig.add_subplot(122)\n",
    "props = dict(alpha=0.5, edgecolors='none')\n",
    "\n",
    "M = 200\n",
    "colors = ['blue', 'green', 'magenta', 'cyan']\n",
    "handles = []\n",
    "\n",
    "for color in colors:\n",
    "    x = np.random.randn(M)\n",
    "    y = np.random.randn(M)\n",
    "    size = np.random.randint(25,200)\n",
    "    handles.append(ax2.scatter(x, y, c=color, s=size, **props))\n",
    "\n",
    "#ax2.set_ylim([-5,10])\n",
    "#ax2.set_xlim([-5,10])\n",
    "\n",
    "ax2.legend(handles, colors)\n",
    "ax2.grid(True)\n",
    "ax2.set_aspect(1./ax2.get_data_ratio())\n",
    "\n",
    "plt.show()"
   ]
  },
  {
   "cell_type": "markdown",
   "metadata": {},
   "source": [
    "### Histogramy"
   ]
  },
  {
   "cell_type": "code",
   "execution_count": null,
   "metadata": {},
   "outputs": [],
   "source": [
    "import numpy as np\n",
    "import matplotlib.pyplot as plt\n",
    "\n",
    "fig = plt.figure(figsize=(10, 8))\n",
    "ax = fig.add_subplot(111)\n",
    "\n",
    "x = np.random.normal(0, 1, 1000)\n",
    "num_bins = 50\n",
    "ax.hist(x, num_bins, color='green', alpha=0.8)\n",
    "plt.show()"
   ]
  },
  {
   "cell_type": "markdown",
   "metadata": {},
   "source": [
    "## 2.3. Wizualizacja danych - biblioteka `seaborn`"
   ]
  },
  {
   "cell_type": "markdown",
   "metadata": {},
   "source": [
    "Biblioteka `seaborn` (https://seaborn.pydata.org) to oparta o `matplotlib` biblioteka do wizualizacji danych."
   ]
  },
  {
   "cell_type": "markdown",
   "metadata": {},
   "source": [
    "### Przykład 1\n",
    "\n",
    "Wizualizacja zbioru danych *Iris* poprzez rzutowanie go na różne osie:"
   ]
  },
  {
   "cell_type": "code",
   "execution_count": null,
   "metadata": {},
   "outputs": [],
   "source": [
    "import pandas as pd\n",
    "import seaborn\n",
    "\n",
    "data_iris = pd.read_csv('../wyk/iris.csv')\n",
    "\n",
    "seaborn.pairplot(\n",
    "    data_iris,\n",
    "    vars=[c for c in data_iris.columns if c != 'Gatunek'], \n",
    "    hue='Gatunek', height=1.5, aspect=1.75)"
   ]
  },
  {
   "cell_type": "markdown",
   "metadata": {},
   "source": [
    "### Przykład 2\n",
    "\n",
    "Rozkład różnych typów zabudowy w zbiorze danych *Mieszkania4* pod względem roku budowy i powierzchni lokalu"
   ]
  },
  {
   "cell_type": "code",
   "execution_count": null,
   "metadata": {},
   "outputs": [],
   "source": [
    "import pandas as pd\n",
    "import seaborn\n",
    "\n",
    "data = pd.read_csv('../wyk/mieszkania4.tsv', sep='\\t')\n",
    "\n",
    "data = data[\n",
    "    (data['Powierzchnia w m2'] < 10000)\n",
    "    & (data['cena'] < 10000000)\n",
    "    ]\n",
    "\n",
    "seaborn.relplot(data=data, x='Rok budowy', y='Powierzchnia w m2', hue='Typ zabudowy')"
   ]
  },
  {
   "cell_type": "markdown",
   "metadata": {},
   "source": [
    "# Zadania"
   ]
  },
  {
   "cell_type": "markdown",
   "metadata": {},
   "source": [
    "### Zadanie 2.1 (2 punkty)\n",
    "\n",
    "Wybierz dwie dowolne kolumny (z wyjątkiem pierwszej) z pliku *data2.csv*. Przedstaw zależność między tymi danymi na wykresie punktowym (wartości z jednej kolumny powinny znaleźć się na jednej osi, a wartości z drugiej kolumny – na drugiej osi)."
   ]
  },
  {
   "cell_type": "code",
   "execution_count": null,
   "metadata": {},
   "outputs": [],
   "source": [
    "# Wykres danych wczytanych z pliku\n",
    "\n",
    "import matplotlib.pyplot as plt\n",
    "import pandas as pd\n",
    "\n",
    "# Wczytanie danych\n",
    "data = pd.read_csv('data2.csv')\n",
    "data_array = data.to_numpy()\n",
    "\n",
    "# Wybór kolumn do przedstawienia na wykresie\n",
    "x = data_array[:, 1]\n",
    "y = data_array[:, 2]\n",
    "\n",
    "plt.plot(x, y, 'ro')  # \"gx\" - zielone (Green) krzyżyki (x)\n",
    "#plt.axis([0, 10, 0, 10])  # opcjonalnie ustawiamy zakres osi wykresu\n",
    "\n",
    "plt.show()  # pokaż wykres"
   ]
  },
  {
   "cell_type": "markdown",
   "metadata": {},
   "source": [
    "### Zadanie 2.2 (3 punkty)\n",
    "\n",
    "#### Część A (2 punkty)\n",
    "Wygeneruj wykres funkcji $y = f(x) = (a - 4) \\, x^2 + (b - 5) \\, x + (c - 6)$, gdzie $a, b, c$ to trzy ostatnie cyfry Twojego numeru indeksu. Pamiętaj o opisaniu osi wykresu ($x$ oraz $y$).\n",
    "\n",
    "#### Część B (1 punkt)\n",
    "Na wykresie z zadania 2.2 przedstaw dodatkowo wykres funkcji $y = g(x) = \\frac{e^x}{e^x + 1}$. Linie przestawiające funkcje $y = f(x)$ i $y = g(x)$ powinny znaleźć się na tym samym wykresie, ale powinny różnić się kolorami."
   ]
  },
  {
   "cell_type": "code",
   "execution_count": null,
   "metadata": {},
   "outputs": [],
   "source": [
    "# Wykres danych wczytanych z pliku\n",
    "import numpy as np\n",
    "import matplotlib.pyplot as plt\n",
    "import pandas as pd\n",
    "\n",
    "fig = plt.figure()\n",
    "ax = fig.add_subplot(111)\n",
    "ax.set_xlabel('x')\n",
    "ax.set_ylabel('y')\n",
    "ax.set_title('Zadanie 2.2A')\n",
    "\n",
    "x = np.arange(0.0, 100.0, 0.1)\n",
    "# s444498\n",
    "y = (4 - 4) * x**2 + (9 - 5) * x + (8 - 6)\n",
    "plt.plot(x, y, color = 'blue', lw=2)\n",
    "\n",
    "plt.show()  # pokaż wykres"
   ]
  },
  {
   "cell_type": "code",
   "execution_count": 1,
   "metadata": {},
   "outputs": [
    {
     "ename": "ModuleNotFoundError",
     "evalue": "No module named 'numpy'",
     "output_type": "error",
     "traceback": [
      "\u001b[1;31m---------------------------------------------------------------------------\u001b[0m",
      "\u001b[1;31mModuleNotFoundError\u001b[0m                       Traceback (most recent call last)",
      "\u001b[1;32md:\\Dev\\aitech-uma\\lab2.ipynb Cell 47'\u001b[0m in \u001b[0;36m<cell line: 2>\u001b[1;34m()\u001b[0m\n\u001b[0;32m      <a href='vscode-notebook-cell:/d%3A/Dev/aitech-uma/lab2.ipynb#ch0000046?line=0'>1</a>\u001b[0m \u001b[39m# Wykres danych wczytanych z pliku\u001b[39;00m\n\u001b[1;32m----> <a href='vscode-notebook-cell:/d%3A/Dev/aitech-uma/lab2.ipynb#ch0000046?line=1'>2</a>\u001b[0m \u001b[39mimport\u001b[39;00m \u001b[39mnumpy\u001b[39;00m \u001b[39mas\u001b[39;00m \u001b[39mnp\u001b[39;00m\n\u001b[0;32m      <a href='vscode-notebook-cell:/d%3A/Dev/aitech-uma/lab2.ipynb#ch0000046?line=2'>3</a>\u001b[0m \u001b[39mimport\u001b[39;00m \u001b[39mmatplotlib\u001b[39;00m\u001b[39m.\u001b[39;00m\u001b[39mpyplot\u001b[39;00m \u001b[39mas\u001b[39;00m \u001b[39mplt\u001b[39;00m\n\u001b[0;32m      <a href='vscode-notebook-cell:/d%3A/Dev/aitech-uma/lab2.ipynb#ch0000046?line=3'>4</a>\u001b[0m \u001b[39mimport\u001b[39;00m \u001b[39mpandas\u001b[39;00m \u001b[39mas\u001b[39;00m \u001b[39mpd\u001b[39;00m\n",
      "\u001b[1;31mModuleNotFoundError\u001b[0m: No module named 'numpy'"
     ]
    }
   ],
   "source": [
    "# Wykres danych wczytanych z pliku\n",
    "import numpy as np\n",
    "import matplotlib.pyplot as plt\n",
    "import pandas as pd\n",
    "\n",
    "# print (np.exp(2))\n",
    "fig = plt.figure()\n",
    "ax = fig.add_subplot(111)\n",
    "ax.set_xlabel('x')\n",
    "ax.set_ylabel('y')\n",
    "ax.set_title('Zadanie 2.2B')\n",
    "\n",
    "x = np.arange(0.0, 100.0, 0.1)\n",
    "# s444498\n",
    "y = (4 - 4) * x**2 + (9 - 5) * x + (8 - 6)\n",
    "plt.plot(x, y, color = 'blue', lw=2)\n",
    "\n",
    "g = np.exp(x) / (np.exp(x) + 1)\n",
    "\n",
    "plt.plot(x, g, color = 'red', lw=2)\n",
    "\n",
    "plt.show()  # pokaż wykres"
   ]
  },
  {
   "cell_type": "markdown",
   "metadata": {},
   "source": [
    "### Zadanie 2.3 (1 punkt)\n",
    "\n",
    "Stwórz trójwymiarowy (powierzchniowy) wykres funkcji $f(x,y) = -(x^2 + y^3)$.\n",
    "\n",
    "Wykres powinien przedstawiać powierzchnię $z = -(x^2 + y^3)$."
   ]
  }
 ],
 "metadata": {
  "author": "Paweł Skórzewski",
  "celltoolbar": "Slideshow",
  "email": "pawel.skorzewski@amu.edu.pl",
  "kernelspec": {
   "display_name": "Python 3",
   "language": "python",
   "name": "python3"
  },
  "lang": "pl",
  "language_info": {
   "codemirror_mode": {
    "name": "ipython",
    "version": 3
   },
   "file_extension": ".py",
   "mimetype": "text/x-python",
   "name": "python",
   "nbconvert_exporter": "python",
   "pygments_lexer": "ipython3",
   "version": "3.10.0"
  },
  "livereveal": {
   "start_slideshow_at": "selected",
   "theme": "amu"
  },
  "subtitle": "2.Wczytywanie i prezentowanie danych[laboratoria]",
  "title": "Uczenie maszynowe",
  "year": "2021"
 },
 "nbformat": 4,
 "nbformat_minor": 4
}

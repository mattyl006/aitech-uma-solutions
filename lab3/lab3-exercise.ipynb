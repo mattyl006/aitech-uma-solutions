{
 "cells": [
  {
   "cell_type": "markdown",
   "metadata": {},
   "source": [
    "![Logo 1](https://git.wmi.amu.edu.pl/AITech/Szablon/raw/branch/master/Logotyp_AITech1.jpg)\n",
    "<div class=\"alert alert-block alert-info\">\n",
    "<h1> Uczenie maszynowe </h1>\n",
    "<h2> 3. <i>Regresja liniowa</i>  [laboratoria]</h2> \n",
    "<h3> Paweł Skórzewski (2021)</h3>\n",
    "</div>\n",
    "\n",
    "![Logo 2](https://git.wmi.amu.edu.pl/AITech/Szablon/raw/branch/master/Logotyp_AITech2.jpg)"
   ]
  },
  {
   "cell_type": "markdown",
   "metadata": {},
   "source": [
    "Do wykonania zadań wykorzystaj wiedzę z wykładu *2. Regresja liniowa*."
   ]
  },
  {
   "cell_type": "markdown",
   "metadata": {},
   "source": [
    "## Zadanie 3"
   ]
  },
  {
   "cell_type": "markdown",
   "metadata": {},
   "source": [
    "Dane użyte w zadaniu zostały udostępnione na [otwartej licencji](https://resources.data.gov/open-licenses)."
   ]
  },
  {
   "cell_type": "markdown",
   "metadata": {},
   "source": [
    "### Część podstawowa (4 punkty)\n",
    "\n",
    "Plik `fires_thefts.csv` zawiera rzeczywiste dane zebrane przez *U.S. Commission on Civil Rights*, przedstawiające liczbę pożarów w danej dzielnicy na tysiąc gospodarstw domowych (pierwsza kolumna) oraz liczbę włamań w tej samej dzielnicy na tysiąc mieszkańców (druga kolumna). \n",
    "\n",
    "Stwórz model (regresja liniowa) przewidujący liczbę włamań na podstawie liczby pożarów:\n",
    " * Oblicz parametry $\\theta$ krzywej regresyjnej za pomocą metody gradientu prostego (*gradient descent*). Możesz wybrać wersję iteracyjną lub macierzową algorytmu.\n",
    " * Wykorzystując uzyskaną krzywą regresyjną przepowiedz liczbę włamań na tysiąc mieszkańców dla dzielnicy, w której występuje średnio 50, 100, 200 pożarów na tysiąc gospodarstw domowych."
   ]
  },
  {
   "cell_type": "markdown",
   "metadata": {},
   "source": [
    "### Część zaawansowana (2 punkty)\n",
    "\n",
    "Dla różnych wartości długości kroku $\\alpha \\in \\{ 0.001, 0.01 , 0.1 \\}$ stwórz wykres, który zilustruje progresję wartości $J(\\theta)$ dla pierwszych 200 kroków algorytmu gradientu prostego:\n",
    " * Oś $x$ wykresu to kolejne kroki algorytmu – od 0 do 200.\n",
    " * Oś $y$ wykresu to wartości $J(\\theta)$.\n",
    " * Wykres powinien składać się z trzech krzywych:\n",
    "   1. dla $\\alpha = 0.001$\n",
    "   2. dla $\\alpha = 0.01$\n",
    "   3. dla $\\alpha = 0.1$"
   ]
  }
 ],
 "metadata": {
  "author": "Paweł Skórzewski",
  "celltoolbar": "Slideshow",
  "email": "pawel.skorzewski@amu.edu.pl",
  "kernelspec": {
   "display_name": "Python 3",
   "language": "python",
   "name": "python3"
  },
  "lang": "pl",
  "language_info": {
   "codemirror_mode": {
    "name": "ipython",
    "version": 3
   },
   "file_extension": ".py",
   "mimetype": "text/x-python",
   "name": "python",
   "nbconvert_exporter": "python",
   "pygments_lexer": "ipython3",
   "version": "3.8.3"
  },
  "livereveal": {
   "start_slideshow_at": "selected",
   "theme": "amu"
  },
  "subtitle": "3.Regresja liniowa[laboratoria]",
  "title": "Uczenie maszynowe",
  "year": "2021"
 },
 "nbformat": 4,
 "nbformat_minor": 4
}
